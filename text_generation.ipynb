{
 "cells": [
  {
   "cell_type": "code",
   "execution_count": 25,
   "metadata": {},
   "outputs": [],
   "source": [
    "from langchain_community.llms.huggingface_pipeline import HuggingFacePipeline\n",
    "from transformers import AutoModelForCausalLM, AutoTokenizer, pipeline\n",
    "import matplotlib.pyplot as plt\n",
    "import seaborn as sns\n",
    "import plotly"
   ]
  },
  {
   "cell_type": "code",
   "execution_count": 2,
   "metadata": {},
   "outputs": [],
   "source": [
    "from transformers import pipeline,AutoTokenizer\n",
    "from transformers import pipeline\n",
    "# generator = pipeline('text-generation', model='openchat/openchat-3.5-0106', max_new_tokens=50)"
   ]
  },
  {
   "cell_type": "code",
   "execution_count": 3,
   "metadata": {},
   "outputs": [
    {
     "name": "stderr",
     "output_type": "stream",
     "text": [
      "Special tokens have been added in the vocabulary, make sure the associated word embeddings are fine-tuned or trained.\n",
      "Loading checkpoint shards: 100%|██████████| 3/3 [00:05<00:00,  1.70s/it]\n",
      "/home/rashed/miniconda3/envs/text_gen/lib/python3.10/site-packages/transformers/generation/configuration_utils.py:392: UserWarning: `do_sample` is set to `False`. However, `temperature` is set to `0.5` -- this flag is only used in sample-based generation modes. You should set `do_sample=True` or unset `temperature`. This was detected when initializing the generation config instance, which means the corresponding file may hold incorrect parameterization and should be fixed.\n",
      "  warnings.warn(\n"
     ]
    }
   ],
   "source": [
    "model_open = \"openchat/openchat-3.5-1210\"\n",
    "tokenizer_open = AutoTokenizer.from_pretrained(model_open)\n",
    "model_open = AutoModelForCausalLM.from_pretrained(model_open, device_map=\"cuda\",load_in_8bit = True)\n",
    "# model_open.to(\"cuda\")"
   ]
  },
  {
   "cell_type": "code",
   "execution_count": 39,
   "metadata": {},
   "outputs": [],
   "source": [
    "pipe = pipeline(\"text-generation\", model=model_open, tokenizer=tokenizer_open, max_new_tokens=250, pad_token_id=tokenizer_open.eos_token_id)\n",
    "hf = HuggingFacePipeline(pipeline=pipe, pipeline_kwargs={\"temperature\": 0})"
   ]
  },
  {
   "cell_type": "code",
   "execution_count": 33,
   "metadata": {},
   "outputs": [
    {
     "data": {
      "text/html": [
       "<div>\n",
       "<style scoped>\n",
       "    .dataframe tbody tr th:only-of-type {\n",
       "        vertical-align: middle;\n",
       "    }\n",
       "\n",
       "    .dataframe tbody tr th {\n",
       "        vertical-align: top;\n",
       "    }\n",
       "\n",
       "    .dataframe thead th {\n",
       "        text-align: right;\n",
       "    }\n",
       "</style>\n",
       "<table border=\"1\" class=\"dataframe\">\n",
       "  <thead>\n",
       "    <tr style=\"text-align: right;\">\n",
       "      <th></th>\n",
       "      <th>Name</th>\n",
       "      <th>Gender</th>\n",
       "      <th>Profession</th>\n",
       "      <th>Date   Of   Birth</th>\n",
       "      <th>District</th>\n",
       "      <th>Thana</th>\n",
       "    </tr>\n",
       "  </thead>\n",
       "  <tbody>\n",
       "    <tr>\n",
       "      <th>0</th>\n",
       "      <td>md. robin</td>\n",
       "      <td>male</td>\n",
       "      <td>business</td>\n",
       "      <td>1985-03-01</td>\n",
       "      <td>dhaka</td>\n",
       "      <td>keraniganj</td>\n",
       "    </tr>\n",
       "    <tr>\n",
       "      <th>1</th>\n",
       "      <td>mst. razya begum</td>\n",
       "      <td>female</td>\n",
       "      <td>house wife</td>\n",
       "      <td>1964-02-14</td>\n",
       "      <td>dhaka</td>\n",
       "      <td>keraniganj</td>\n",
       "    </tr>\n",
       "    <tr>\n",
       "      <th>2</th>\n",
       "      <td>md. mahfuzul haque</td>\n",
       "      <td>male</td>\n",
       "      <td>business</td>\n",
       "      <td>1968-04-17</td>\n",
       "      <td>dhaka</td>\n",
       "      <td>kalabagan</td>\n",
       "    </tr>\n",
       "    <tr>\n",
       "      <th>3</th>\n",
       "      <td>hajera besgum</td>\n",
       "      <td>female</td>\n",
       "      <td>house wife</td>\n",
       "      <td>1985-01-08</td>\n",
       "      <td>dhaka</td>\n",
       "      <td>keraniganj</td>\n",
       "    </tr>\n",
       "    <tr>\n",
       "      <th>4</th>\n",
       "      <td>ehsan uddin ahammed</td>\n",
       "      <td>male</td>\n",
       "      <td>business</td>\n",
       "      <td>1963-05-12</td>\n",
       "      <td>dhaka</td>\n",
       "      <td>keraniganj</td>\n",
       "    </tr>\n",
       "  </tbody>\n",
       "</table>\n",
       "</div>"
      ],
      "text/plain": [
       "                  Name  Gender  Profession Date   Of   Birth District  \\\n",
       "0            md. robin    male    business        1985-03-01    dhaka   \n",
       "1     mst. razya begum  female  house wife        1964-02-14    dhaka   \n",
       "2   md. mahfuzul haque    male    business        1968-04-17    dhaka   \n",
       "3        hajera besgum  female  house wife        1985-01-08    dhaka   \n",
       "4  ehsan uddin ahammed    male    business        1963-05-12    dhaka   \n",
       "\n",
       "        Thana  \n",
       "0  keraniganj  \n",
       "1  keraniganj  \n",
       "2   kalabagan  \n",
       "3  keraniganj  \n",
       "4  keraniganj  "
      ]
     },
     "execution_count": 33,
     "metadata": {},
     "output_type": "execute_result"
    }
   ],
   "source": [
    "import pandas as pd\n",
    "import re\n",
    "import matplotlib.pyplot as plt\n",
    "import seaborn as sns\n",
    "df = pd.read_csv(\"List of Guest.csv\")\n",
    "df = df.map(lambda x: x.lower() if isinstance(x, str) else x)\n",
    "df.head()"
   ]
  },
  {
   "cell_type": "code",
   "execution_count": 34,
   "metadata": {},
   "outputs": [
    {
     "data": {
      "text/plain": [
       "'name: object, gender: object, profession: object, date_of_birth: object, district: object, thana: object'"
      ]
     },
     "execution_count": 34,
     "metadata": {},
     "output_type": "execute_result"
    }
   ],
   "source": [
    "df.columns = df.columns.str.replace('\\s+', '_', regex=True).str.strip().str.lower()\n",
    "\n",
    "column_names = df.columns.tolist()\n",
    "column = ', '.join(column_names)\n",
    "columns_and_types = dict(zip(df.columns, df.dtypes))\n",
    "\n",
    "# Convert column names and data types to a string\n",
    "column = ', '.join([f\"{key}: {value}\" for key, value in columns_and_types.items()])\n",
    "column"
   ]
  },
  {
   "cell_type": "code",
   "execution_count": 35,
   "metadata": {},
   "outputs": [
    {
     "data": {
      "text/html": [
       "<div>\n",
       "<style scoped>\n",
       "    .dataframe tbody tr th:only-of-type {\n",
       "        vertical-align: middle;\n",
       "    }\n",
       "\n",
       "    .dataframe tbody tr th {\n",
       "        vertical-align: top;\n",
       "    }\n",
       "\n",
       "    .dataframe thead th {\n",
       "        text-align: right;\n",
       "    }\n",
       "</style>\n",
       "<table border=\"1\" class=\"dataframe\">\n",
       "  <thead>\n",
       "    <tr style=\"text-align: right;\">\n",
       "      <th></th>\n",
       "      <th>name</th>\n",
       "      <th>gender</th>\n",
       "      <th>profession</th>\n",
       "      <th>date_of_birth</th>\n",
       "      <th>district</th>\n",
       "      <th>thana</th>\n",
       "    </tr>\n",
       "  </thead>\n",
       "  <tbody>\n",
       "    <tr>\n",
       "      <th>0</th>\n",
       "      <td>md. robin</td>\n",
       "      <td>male</td>\n",
       "      <td>business</td>\n",
       "      <td>1985-03-01</td>\n",
       "      <td>dhaka</td>\n",
       "      <td>keraniganj</td>\n",
       "    </tr>\n",
       "    <tr>\n",
       "      <th>1</th>\n",
       "      <td>mst. razya begum</td>\n",
       "      <td>female</td>\n",
       "      <td>house wife</td>\n",
       "      <td>1964-02-14</td>\n",
       "      <td>dhaka</td>\n",
       "      <td>keraniganj</td>\n",
       "    </tr>\n",
       "    <tr>\n",
       "      <th>2</th>\n",
       "      <td>md. mahfuzul haque</td>\n",
       "      <td>male</td>\n",
       "      <td>business</td>\n",
       "      <td>1968-04-17</td>\n",
       "      <td>dhaka</td>\n",
       "      <td>kalabagan</td>\n",
       "    </tr>\n",
       "    <tr>\n",
       "      <th>3</th>\n",
       "      <td>hajera besgum</td>\n",
       "      <td>female</td>\n",
       "      <td>house wife</td>\n",
       "      <td>1985-01-08</td>\n",
       "      <td>dhaka</td>\n",
       "      <td>keraniganj</td>\n",
       "    </tr>\n",
       "    <tr>\n",
       "      <th>4</th>\n",
       "      <td>ehsan uddin ahammed</td>\n",
       "      <td>male</td>\n",
       "      <td>business</td>\n",
       "      <td>1963-05-12</td>\n",
       "      <td>dhaka</td>\n",
       "      <td>keraniganj</td>\n",
       "    </tr>\n",
       "  </tbody>\n",
       "</table>\n",
       "</div>"
      ],
      "text/plain": [
       "                  name  gender  profession date_of_birth district       thana\n",
       "0            md. robin    male    business    1985-03-01    dhaka  keraniganj\n",
       "1     mst. razya begum  female  house wife    1964-02-14    dhaka  keraniganj\n",
       "2   md. mahfuzul haque    male    business    1968-04-17    dhaka   kalabagan\n",
       "3        hajera besgum  female  house wife    1985-01-08    dhaka  keraniganj\n",
       "4  ehsan uddin ahammed    male    business    1963-05-12    dhaka  keraniganj"
      ]
     },
     "execution_count": 35,
     "metadata": {},
     "output_type": "execute_result"
    }
   ],
   "source": [
    "df.head()"
   ]
  },
  {
   "cell_type": "code",
   "execution_count": 36,
   "metadata": {},
   "outputs": [],
   "source": [
    "# Based on the above question write a pandas code where the pandas DataFrame name is df and the columns name are {column}.\n",
    "# your task is generating python code without any description of code.\n",
    "# also the python code should not have ``` in beginning or end.\n",
    "# return only pandas code without any prefix such as Answer\n",
    "# return without assingment variable:"
   ]
  },
  {
   "cell_type": "code",
   "execution_count": 44,
   "metadata": {},
   "outputs": [
    {
     "name": "stderr",
     "output_type": "stream",
     "text": [
      "/home/rashed/miniconda3/envs/text_gen/lib/python3.10/site-packages/transformers/generation/configuration_utils.py:392: UserWarning: `do_sample` is set to `False`. However, `temperature` is set to `0.5` -- this flag is only used in sample-based generation modes. You should set `do_sample=True` or unset `temperature`.\n",
      "  warnings.warn(\n"
     ]
    },
    {
     "name": "stdout",
     "output_type": "stream",
     "text": [
      "\n",
      "plt.figure(figsize=(12, 16))\n",
      "df['gender'].value_counts().plot(kind='bar')\n",
      "plt.title('gender distribution')\n",
      "plt.xticks(rotation='vertical')\n",
      "plt.savefig('img/output.png')\n",
      "....................................................................................................\n"
     ]
    },
    {
     "data": {
      "image/png": "[encoded data removed]",
      "text/plain": [
       "<Figure size 1200x1600 with 1 Axes>"
      ]
     },
     "metadata": {},
     "output_type": "display_data"
    }
   ],
   "source": [
    "from langchain.prompts import PromptTemplate\n",
    "\n",
    "template = \"\"\"\n",
    "You are an expert in generating python code for data analysis from a Pandas dataframe.\n",
    "Now your task is to generate Python code from the pandas dataframe based on user questions.\n",
    "The name of the DataFrame is 'df' and the dataframe columns are: {column}.\n",
    "If you generate any code for a chart , you save this chart image to the 'img' folder with the name 'output'.\n",
    "Also, the Python code should not have the line: \"df = pd.read_csv('data.csv')\" or \"plt.show().\" and always 'xticks' rotation will be vertical.\n",
    "you return only answer of the given question, don't return suggestion\n",
    "\n",
    "Question: generate code for pie chart of gender distribution\n",
    "Python Code:\n",
    "gender_counts = df['gender'].value_counts()\n",
    "# Plotting a Pie Chart\n",
    "plt.figure(figsize=(12, 16))\n",
    "plt.pie(gender_counts, labels=gender_counts.index, autopct='%1.1f%%', startangle=90, colors=['skyblue', 'lightcoral'])\n",
    "plt.title('Distribution of Gender Among Students')\n",
    "plt.xticks(rotation='vertical')\n",
    "plt.savefig('img/output.png')\n",
    "\n",
    "Question: generate Python code for a bar chart showing the count of students in each grade\n",
    "Python Code:\n",
    "grade_counts = df['grade'].value_counts()\n",
    "# Plotting a Bar Chart\n",
    "plt.figure(figsize=(12, 16))\n",
    "grade_counts.sort_index().plot(kind='bar', color='skyblue', edgecolor='black')\n",
    "plt.xticks(rotation='vertical')\n",
    "plt.xlabel('Grade')\n",
    "plt.ylabel('Number of Students')\n",
    "plt.title('Number of Students in Each Grade')\n",
    "plt.savefig('img/output.png')\n",
    "\n",
    "Question: generate Python code for a box plot of the distribution of ages\n",
    "Python Code:\n",
    "plt.figure(figsize=(12, 8))\n",
    "plt.boxplot(df['Age'], vert=False)\n",
    "plt.xlabel('Age')\n",
    "plt.title('Box Plot of Age Distribution')\n",
    "plt.savefig('img/output.png')\n",
    "\n",
    "Question = please calculate the age based on date of birth  and  find out moast aged person and print name and age?\n",
    "Python Code:\n",
    "from datetime import datetime\n",
    "from dateutil.relativedelta import relativedelta\n",
    "\n",
    "# Calculate age\n",
    "df['Date_Of_Birth'] = pd.to_datetime(df['date_of_birth'])\n",
    "df['age'] = (datetime.now() - df['Date_Of_Birth']).apply(lambda x: x.days // 365)\n",
    "\n",
    "# Find most aged person\n",
    "most_aged_person = df.loc[df['age'].idxmax()]\n",
    "\n",
    "# Print name and age of most aged person\n",
    "print(\"The most aged person is: \", most_aged_person['name'], \" with age: \", most_aged_person['age'])\n",
    "\n",
    "Question: how many rows ?\n",
    "Python Code:\n",
    "import pandas as pd\n",
    "print(len(df.index))\n",
    "\n",
    "<|end_of_turn|>\n",
    "\n",
    "Question:\n",
    "{question}\n",
    "\n",
    "\"\"\"\n",
    "prompt = PromptTemplate.from_template(template)\n",
    "\n",
    "chain = prompt | hf\n",
    "\n",
    "question = \"draw a bar chat of gender \"\n",
    "\n",
    "response = chain.invoke({\"column\":column ,\"question\": question})\n",
    "response = response.replace('Python Code:','')\n",
    "# cleaned_code = re.sub(r'\\n\\s+', '\\n', response)\n",
    "# cleaned_code = response.replace('python code :', '').strip()\n",
    "\n",
    "# print(\" ......................................................................................................\")\n",
    "\n",
    "if \"Question:\" in response:\n",
    "    index_of_user_quary = response.find(\"Question:\")\n",
    "    cleaned = response[:index_of_user_quary]\n",
    "else:\n",
    "    cleaned = response\n",
    "\n",
    "# Print the cleaned code\n",
    "cleaned = cleaned.lower()\n",
    "print(cleaned)\n",
    "print(\"....................................................................................................\")\n",
    "exec(cleaned)\n",
    "# print(response)\n"
   ]
  },
  {
   "cell_type": "code",
   "execution_count": null,
   "metadata": {},
   "outputs": [],
   "source": []
  },
  {
   "cell_type": "code",
   "execution_count": null,
   "metadata": {},
   "outputs": [],
   "source": []
  },
  {
   "cell_type": "code",
   "execution_count": null,
   "metadata": {},
   "outputs": [],
   "source": []
  },
  {
   "cell_type": "code",
   "execution_count": null,
   "metadata": {},
   "outputs": [],
   "source": [
    "# please calculate the average age based on date of birth \n",
    "# please calculate the age of Md. Robin based on date of birth \n",
    "# draw a pie chart of age based on date of birth  \n",
    "# draw a bar chat of gender "
   ]
  },
  {
   "cell_type": "code",
   "execution_count": null,
   "metadata": {},
   "outputs": [],
   "source": [
    "response_index = response.find(\"Question:\")\n",
    "if response_index == -1:\n",
    "    print(response)\n",
    "    exec(response)\n",
    "else:\n",
    "    response = response[:response_index]\n",
    "    print(response[:response_index])\n",
    "    exec(response)\n"
   ]
  },
  {
   "cell_type": "code",
   "execution_count": null,
   "metadata": {},
   "outputs": [],
   "source": []
  },
  {
   "cell_type": "code",
   "execution_count": null,
   "metadata": {},
   "outputs": [
    {
     "data": {
      "text/plain": [
       "10"
      ]
     },
     "execution_count": 55,
     "metadata": {},
     "output_type": "execute_result"
    }
   ],
   "source": [
    "len(df)"
   ]
  },
  {
   "cell_type": "code",
   "execution_count": null,
   "metadata": {},
   "outputs": [],
   "source": [
    "from llama_cpp import Llama\n",
    "\n",
    "# # Set gpu_layers to the number of layers to offload to GPU. Set to 0 if no GPU acceleration is available on your system.\n",
    "# llm = Llama(\n",
    "#   model_path=\"./openchat-3.5-0106.Q4_K_M.gguf\",  # Download the model file first\n",
    "#   n_ctx=8192,  # The max sequence length to use - note that longer sequence lengths require much more resources\n",
    "#   n_threads=8,            # The number of CPU threads to use, tailor to your system and the resulting performance\n",
    "#   n_gpu_layers=35         # The number of layers to offload to GPU, if you have GPU acceleration available\n",
    "# )\n",
    "\n",
    "# # Simple inference example\n",
    "# output = llm(\n",
    "#   \"GPT4 Correct User: {prompt}<|end_of_turn|>GPT4 Correct Assistant:\", # Prompt\n",
    "#   max_tokens=512,  # Generate up to 512 tokens\n",
    "#   stop=[\"</s>\"],   # Example stop token - not necessarily correct for this specific model! Please check before using.\n",
    "#   echo=True        # Whether to echo the prompt\n",
    "# )\n",
    "\n",
    "# Chat Completion API\n",
    "\n",
    "llm = Llama(model_path=\"./openchat-3.5-0106.Q4_K_M.gguf\", chat_format=\"llama-2\")  # Set chat_format according to the model you are using\n",
    "\n"
   ]
  },
  {
   "cell_type": "code",
   "execution_count": null,
   "metadata": {},
   "outputs": [
    {
     "ename": "ValueError",
     "evalue": "Model path does not exist: TheBloke/openchat-3.5-0106-GGUF",
     "output_type": "error",
     "traceback": [
      "\u001b[0;31m---------------------------------------------------------------------------\u001b[0m",
      "\u001b[0;31mValueError\u001b[0m                                Traceback (most recent call last)",
      "Cell \u001b[0;32mIn[50], line 2\u001b[0m\n\u001b[1;32m      1\u001b[0m \u001b[38;5;28;01mfrom\u001b[39;00m \u001b[38;5;21;01mllama_cpp\u001b[39;00m \u001b[38;5;28;01mimport\u001b[39;00m Llama\n\u001b[0;32m----> 2\u001b[0m llm \u001b[38;5;241m=\u001b[39m \u001b[43mLlama\u001b[49m\u001b[43m(\u001b[49m\u001b[43mmodel_path\u001b[49m\u001b[38;5;241;43m=\u001b[39;49m\u001b[38;5;124;43m\"\u001b[39;49m\u001b[38;5;124;43mTheBloke/openchat-3.5-0106-GGUF\u001b[39;49m\u001b[38;5;124;43m\"\u001b[39;49m\u001b[43m,\u001b[49m\u001b[43m \u001b[49m\u001b[43mchat_format\u001b[49m\u001b[38;5;241;43m=\u001b[39;49m\u001b[38;5;124;43m\"\u001b[39;49m\u001b[38;5;124;43mllama-2\u001b[39;49m\u001b[38;5;124;43m\"\u001b[39;49m\u001b[43m)\u001b[49m \n",
      "File \u001b[0;32m~/miniconda3/envs/trans2/lib/python3.10/site-packages/llama_cpp/llama.py:276\u001b[0m, in \u001b[0;36mLlama.__init__\u001b[0;34m(self, model_path, n_gpu_layers, split_mode, main_gpu, tensor_split, vocab_only, use_mmap, use_mlock, kv_overrides, seed, n_ctx, n_batch, n_threads, n_threads_batch, rope_scaling_type, rope_freq_base, rope_freq_scale, yarn_ext_factor, yarn_attn_factor, yarn_beta_fast, yarn_beta_slow, yarn_orig_ctx, mul_mat_q, logits_all, embedding, offload_kqv, last_n_tokens_size, lora_base, lora_scale, lora_path, numa, chat_format, chat_handler, verbose, **kwargs)\u001b[0m\n\u001b[1;32m    273\u001b[0m \u001b[38;5;28mself\u001b[39m\u001b[38;5;241m.\u001b[39mlora_path \u001b[38;5;241m=\u001b[39m lora_path\n\u001b[1;32m    275\u001b[0m \u001b[38;5;28;01mif\u001b[39;00m \u001b[38;5;129;01mnot\u001b[39;00m os\u001b[38;5;241m.\u001b[39mpath\u001b[38;5;241m.\u001b[39mexists(model_path):\n\u001b[0;32m--> 276\u001b[0m     \u001b[38;5;28;01mraise\u001b[39;00m \u001b[38;5;167;01mValueError\u001b[39;00m(\u001b[38;5;124mf\u001b[39m\u001b[38;5;124m\"\u001b[39m\u001b[38;5;124mModel path does not exist: \u001b[39m\u001b[38;5;132;01m{\u001b[39;00mmodel_path\u001b[38;5;132;01m}\u001b[39;00m\u001b[38;5;124m\"\u001b[39m)\n\u001b[1;32m    278\u001b[0m \u001b[38;5;28mself\u001b[39m\u001b[38;5;241m.\u001b[39m_model \u001b[38;5;241m=\u001b[39m _LlamaModel(\n\u001b[1;32m    279\u001b[0m     path_model\u001b[38;5;241m=\u001b[39m\u001b[38;5;28mself\u001b[39m\u001b[38;5;241m.\u001b[39mmodel_path, params\u001b[38;5;241m=\u001b[39m\u001b[38;5;28mself\u001b[39m\u001b[38;5;241m.\u001b[39mmodel_params, verbose\u001b[38;5;241m=\u001b[39m\u001b[38;5;28mself\u001b[39m\u001b[38;5;241m.\u001b[39mverbose\n\u001b[1;32m    280\u001b[0m )\n\u001b[1;32m    281\u001b[0m \u001b[38;5;66;03m# Set the default value for the context and correct the batch\u001b[39;00m\n",
      "\u001b[0;31mValueError\u001b[0m: Model path does not exist: TheBloke/openchat-3.5-0106-GGUF"
     ]
    }
   ],
   "source": [
    "from llama_cpp import Llama\n",
    "llm = Llama(model_path=\"TheBloke/openchat-3.5-0106-GGUF\", chat_format=\"llama-2\") "
   ]
  },
  {
   "cell_type": "code",
   "execution_count": null,
   "metadata": {},
   "outputs": [],
   "source": [
    "llm.create_chat_completion(\n",
    "    messages = [\n",
    "        {\"role\": \"system\", \"content\": \"You are a story writing assistant.\"},\n",
    "        {\n",
    "            \"role\": \"user\",\n",
    "            \"content\": \"Write a story about llamas.\"\n",
    "        }\n",
    "    ]\n",
    ")"
   ]
  },
  {
   "cell_type": "code",
   "execution_count": null,
   "metadata": {},
   "outputs": [],
   "source": [
    "import torch"
   ]
  },
  {
   "cell_type": "code",
   "execution_count": null,
   "metadata": {},
   "outputs": [
    {
     "name": "stderr",
     "output_type": "stream",
     "text": [
      "Special tokens have been added in the vocabulary, make sure the associated word embeddings are fine-tuned or trained.\n"
     ]
    }
   ],
   "source": [
    "# tokenizer_bigcode = AutoTokenizer.from_pretrained(\"bigcode/gpt_bigcode-santacoder\")\n",
    "# model_bigcode = AutoModelForCausalLM.from_pretrained(\"bigcode/gpt_bigcode-santacoder\", device_map='cuda',load_in_8bit = True, torch_dtype=torch.float16)\n"
   ]
  },
  {
   "cell_type": "code",
   "execution_count": null,
   "metadata": {},
   "outputs": [
    {
     "name": "stderr",
     "output_type": "stream",
     "text": [
      "Special tokens have been added in the vocabulary, make sure the associated word embeddings are fine-tuned or trained.\n"
     ]
    }
   ],
   "source": [
    "# import torch\n",
    "# from transformers import AutoTokenizer, GPTBigCodeForCausalLM\n",
    "\n",
    "# tokenizer = AutoTokenizer.from_pretrained(\"bigcode/gpt_bigcode-santacoder\")\n",
    "# model = GPTBigCodeForCausalLM.from_pretrained(\"bigcode/gpt_bigcode-santacoder\")\n",
    "\n",
    "# inputs = tokenizer(\"Hello, my dog is cute\", return_tensors=\"pt\")\n",
    "# outputs = model(**inputs, labels=inputs[\"input_ids\"])\n",
    "# loss = outputs.loss\n",
    "# logits = outputs.logits"
   ]
  },
  {
   "cell_type": "code",
   "execution_count": null,
   "metadata": {},
   "outputs": [],
   "source": [
    "# pipe = pipeline(\"text-generation\", model=model, tokenizer=tokenizer, max_new_tokens=100)\n",
    "# hf = HuggingFacePipeline(pipeline=pipe, pipeline_kwargs={\"temperature\": 0})"
   ]
  },
  {
   "cell_type": "code",
   "execution_count": null,
   "metadata": {},
   "outputs": [],
   "source": [
    "pipe = pipeline(\"text2text-generation\", model=model, tokenizer=tokenizer, max_new_tokens=100)\n",
    "hf = HuggingFacePipeline(pipeline=pipe, pipeline_kwargs={\"temperature\": 0})"
   ]
  },
  {
   "cell_type": "code",
   "execution_count": null,
   "metadata": {},
   "outputs": [
    {
     "name": "stdout",
     "output_type": "stream",
     "text": [
      "df = [] for i in range(5): df.append([i for i in range(10)]) for i in range(10): for j in range(10): if i == j: df.append(i) for i in range(10): for j in range(10): if i == j: df.append(i) for\n"
     ]
    }
   ],
   "source": [
    "from langchain.prompts import PromptTemplate\n",
    "\n",
    "template = \"\"\"\n",
    "Question: {question}\n",
    "Based on the above question write a pandas code where the pandas DataFrame name is df and the columns name are {column}.\n",
    "your task is generating python code without any description of code.\n",
    "also the python code should not have ``` in beginning or end.\n",
    "return only pandas code without any prefix such as Answer\n",
    "return without assingment variable:\n",
    "\"\"\"\n",
    "prompt = PromptTemplate.from_template(template)\n",
    "\n",
    "chain = prompt | hf\n",
    "\n",
    "question = \"what is the Total innings?\"\n",
    "\n",
    "print(chain.invoke({\"question\": question,\"column\":column}))"
   ]
  },
  {
   "cell_type": "code",
   "execution_count": null,
   "metadata": {},
   "outputs": [
    {
     "data": {
      "text/html": [
       "<div>\n",
       "<style scoped>\n",
       "    .dataframe tbody tr th:only-of-type {\n",
       "        vertical-align: middle;\n",
       "    }\n",
       "\n",
       "    .dataframe tbody tr th {\n",
       "        vertical-align: top;\n",
       "    }\n",
       "\n",
       "    .dataframe thead th {\n",
       "        text-align: right;\n",
       "    }\n",
       "</style>\n",
       "<table border=\"1\" class=\"dataframe\">\n",
       "  <thead>\n",
       "    <tr style=\"text-align: right;\">\n",
       "      <th></th>\n",
       "      <th>Pos</th>\n",
       "      <th>Player</th>\n",
       "      <th>Team</th>\n",
       "      <th>Span</th>\n",
       "      <th>Innings</th>\n",
       "      <th>Runs</th>\n",
       "      <th>Highest_Score</th>\n",
       "      <th>Average</th>\n",
       "      <th>Strike_Rate</th>\n",
       "    </tr>\n",
       "  </thead>\n",
       "  <tbody>\n",
       "    <tr>\n",
       "      <th>0</th>\n",
       "      <td>1</td>\n",
       "      <td>Sachin Tendulkar</td>\n",
       "      <td>India</td>\n",
       "      <td>1989-2012</td>\n",
       "      <td>452</td>\n",
       "      <td>18426</td>\n",
       "      <td>200</td>\n",
       "      <td>44.83</td>\n",
       "      <td>86.23</td>\n",
       "    </tr>\n",
       "    <tr>\n",
       "      <th>1</th>\n",
       "      <td>2</td>\n",
       "      <td>Kumar Sangakkara</td>\n",
       "      <td>Sri Lanka</td>\n",
       "      <td>2000-2015</td>\n",
       "      <td>380</td>\n",
       "      <td>14234</td>\n",
       "      <td>169</td>\n",
       "      <td>41.98</td>\n",
       "      <td>78.86</td>\n",
       "    </tr>\n",
       "    <tr>\n",
       "      <th>2</th>\n",
       "      <td>3</td>\n",
       "      <td>Ricky Ponting</td>\n",
       "      <td>Australia</td>\n",
       "      <td>1995-2012</td>\n",
       "      <td>365</td>\n",
       "      <td>13704</td>\n",
       "      <td>164</td>\n",
       "      <td>42.03</td>\n",
       "      <td>80.39</td>\n",
       "    </tr>\n",
       "    <tr>\n",
       "      <th>3</th>\n",
       "      <td>4</td>\n",
       "      <td>Sanath Jayasuriya</td>\n",
       "      <td>Sri Lanka</td>\n",
       "      <td>1989-2011</td>\n",
       "      <td>433</td>\n",
       "      <td>13430</td>\n",
       "      <td>189</td>\n",
       "      <td>32.36</td>\n",
       "      <td>91.20</td>\n",
       "    </tr>\n",
       "    <tr>\n",
       "      <th>4</th>\n",
       "      <td>5</td>\n",
       "      <td>Mahela Jayawardene</td>\n",
       "      <td>Sri Lanka</td>\n",
       "      <td>1998-2015</td>\n",
       "      <td>418</td>\n",
       "      <td>12650</td>\n",
       "      <td>144</td>\n",
       "      <td>33.37</td>\n",
       "      <td>78.96</td>\n",
       "    </tr>\n",
       "    <tr>\n",
       "      <th>5</th>\n",
       "      <td>6</td>\n",
       "      <td>Virat Kohli</td>\n",
       "      <td>India</td>\n",
       "      <td>2008-2020</td>\n",
       "      <td>236</td>\n",
       "      <td>11867</td>\n",
       "      <td>183</td>\n",
       "      <td>59.85</td>\n",
       "      <td>93.39</td>\n",
       "    </tr>\n",
       "    <tr>\n",
       "      <th>6</th>\n",
       "      <td>7</td>\n",
       "      <td>Inzamam-ul-Haq</td>\n",
       "      <td>Pakistan</td>\n",
       "      <td>1991-2007</td>\n",
       "      <td>350</td>\n",
       "      <td>11739</td>\n",
       "      <td>137</td>\n",
       "      <td>39.52</td>\n",
       "      <td>74.24</td>\n",
       "    </tr>\n",
       "    <tr>\n",
       "      <th>7</th>\n",
       "      <td>8</td>\n",
       "      <td>Jacques Kallis</td>\n",
       "      <td>South Africa</td>\n",
       "      <td>1996-2014</td>\n",
       "      <td>314</td>\n",
       "      <td>11579</td>\n",
       "      <td>139</td>\n",
       "      <td>44.36</td>\n",
       "      <td>72.89</td>\n",
       "    </tr>\n",
       "    <tr>\n",
       "      <th>8</th>\n",
       "      <td>9</td>\n",
       "      <td>Saurav Ganguly</td>\n",
       "      <td>India</td>\n",
       "      <td>1992-2007</td>\n",
       "      <td>300</td>\n",
       "      <td>11363</td>\n",
       "      <td>183</td>\n",
       "      <td>41.02</td>\n",
       "      <td>73.70</td>\n",
       "    </tr>\n",
       "    <tr>\n",
       "      <th>9</th>\n",
       "      <td>10</td>\n",
       "      <td>Rahul Dravid</td>\n",
       "      <td>India</td>\n",
       "      <td>1996-2011</td>\n",
       "      <td>318</td>\n",
       "      <td>10889</td>\n",
       "      <td>153</td>\n",
       "      <td>39.16</td>\n",
       "      <td>71.24</td>\n",
       "    </tr>\n",
       "  </tbody>\n",
       "</table>\n",
       "</div>"
      ],
      "text/plain": [
       "   Pos              Player          Team       Span  Innings   Runs  \\\n",
       "0    1    Sachin Tendulkar         India  1989-2012      452  18426   \n",
       "1    2    Kumar Sangakkara     Sri Lanka  2000-2015      380  14234   \n",
       "2    3       Ricky Ponting     Australia  1995-2012      365  13704   \n",
       "3    4   Sanath Jayasuriya     Sri Lanka  1989-2011      433  13430   \n",
       "4    5  Mahela Jayawardene     Sri Lanka  1998-2015      418  12650   \n",
       "5    6         Virat Kohli         India  2008-2020      236  11867   \n",
       "6    7      Inzamam-ul-Haq      Pakistan  1991-2007      350  11739   \n",
       "7    8      Jacques Kallis  South Africa  1996-2014      314  11579   \n",
       "8    9      Saurav Ganguly         India  1992-2007      300  11363   \n",
       "9   10        Rahul Dravid         India  1996-2011      318  10889   \n",
       "\n",
       "   Highest_Score  Average  Strike_Rate  \n",
       "0            200    44.83        86.23  \n",
       "1            169    41.98        78.86  \n",
       "2            164    42.03        80.39  \n",
       "3            189    32.36        91.20  \n",
       "4            144    33.37        78.96  \n",
       "5            183    59.85        93.39  \n",
       "6            137    39.52        74.24  \n",
       "7            139    44.36        72.89  \n",
       "8            183    41.02        73.70  \n",
       "9            153    39.16        71.24  "
      ]
     },
     "execution_count": 13,
     "metadata": {},
     "output_type": "execute_result"
    }
   ],
   "source": [
    "df "
   ]
  },
  {
   "cell_type": "code",
   "execution_count": null,
   "metadata": {},
   "outputs": [],
   "source": []
  },
  {
   "cell_type": "code",
   "execution_count": null,
   "metadata": {},
   "outputs": [],
   "source": []
  },
  {
   "cell_type": "code",
   "execution_count": null,
   "metadata": {},
   "outputs": [],
   "source": []
  },
  {
   "cell_type": "code",
   "execution_count": null,
   "metadata": {},
   "outputs": [],
   "source": []
  }
 ],
 "metadata": {
  "kernelspec": {
   "display_name": "transformer",
   "language": "python",
   "name": "python3"
  },
  "language_info": {
   "codemirror_mode": {
    "name": "ipython",
    "version": 3
   },
   "file_extension": ".py",
   "mimetype": "text/x-python",
   "name": "python",
   "nbconvert_exporter": "python",
   "pygments_lexer": "ipython3",
   "version": "3.10.13"
  }
 },
 "nbformat": 4,
 "nbformat_minor": 2
}
